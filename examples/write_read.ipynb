{
 "cells": [
  {
   "cell_type": "markdown",
   "id": "28e0d130",
   "metadata": {},
   "source": [
    "# Using the heparchy database API"
   ]
  },
  {
   "cell_type": "markdown",
   "id": "1e674518",
   "metadata": {},
   "source": [
    "## Writing a new database"
   ]
  },
  {
   "cell_type": "code",
   "execution_count": 1,
   "id": "7adb601e",
   "metadata": {},
   "outputs": [],
   "source": [
    "import numpy as np\n",
    "\n",
    "from heparchy.write import DataWriter"
   ]
  },
  {
   "cell_type": "markdown",
   "id": "484aad81",
   "metadata": {},
   "source": [
    "Reference dataset taken from https://zenodo.org/record/3981290#.YIgTCi9Q3xW.\n",
    "\n",
    "First 3 events from wboson.txt have been included.\n",
    "\n",
    "Description:\n",
    "* 13 TeV collision data simulated with pythia 8.183.\n",
    "* wboson.txt contains events generated from a W' boson with a mass of 600 GeV, which decays 100% of the time to a W boson and a Z boson. The W boson is forced to decay haronically and the Z boson decays into neutrinos.\n",
    "* events in the text format\n",
    "* each line in the text represent one event, which contains variable number of detector-stable particles.\n",
    "* each particle contains 7 features in order: [px, py, pz, E, pdgID, is-from-W, is-in-leading-jet]. The first four features are the four momentum of the particle, and pdgID is the pag number of the particle. is-from-W is 1 if the particle coming from W boson and 0 otherwise. is-in-leading-jet is 1 if the particle is inside the leading jet reconstructed from the anti-kT jet algorithm (R=1.0)"
   ]
  },
  {
   "cell_type": "code",
   "execution_count": 2,
   "id": "00daf4de",
   "metadata": {
    "scrolled": true
   },
   "outputs": [],
   "source": [
    "with DataWriter('events.hdf5') as f_out: # create and open the database\n",
    "    with f_out.new_process('wboson') as process: # a new process to contain events\n",
    "        # --- metadata to describe the process (retrievable when reading) --- #\n",
    "        process.decay(in_pcls=(2212, 2212), out_pcls=(23, 24))\n",
    "        process.signal_id(signal_pcl=24)\n",
    "        process.com_energy(energy=13.0, unit='TeV')\n",
    "        # ------ #\n",
    "        with open('reference_data.txt', 'r') as f_in:\n",
    "            # --- your own code to format the data into numpy arrays --- #\n",
    "            for evt_num, line in enumerate(f_in): # each text line is an event\n",
    "                data = np.fromstring(line, sep=' ') # flattened data for event\n",
    "                num_cols = 7 # specified in description\n",
    "                num_pcls = len(data) // num_cols # num particles in each column\n",
    "                data = data.reshape((num_pcls, num_cols)) # reshape flattened array => columns\n",
    "            # ------ #\n",
    "                with process.new_event() as event:\n",
    "                    # add the event data:\n",
    "                    event.pmu(data[:, :4])\n",
    "                    event.pdg(data[:, 4])\n",
    "                    event.is_signal(data[:, 5].astype(np.bool_))\n",
    "                    event.custom_dataset(\n",
    "                        name='in_leading',\n",
    "                        data=data[:, 6].astype(np.bool_),\n",
    "                        dtype='<?', # little Endian boolean\n",
    "                        )"
   ]
  },
  {
   "cell_type": "markdown",
   "id": "c556551c",
   "metadata": {},
   "source": [
    "## Reading from an existing database"
   ]
  },
  {
   "cell_type": "code",
   "execution_count": 3,
   "id": "fe061938",
   "metadata": {},
   "outputs": [],
   "source": [
    "from heparchy.read import EventLoader"
   ]
  },
  {
   "cell_type": "code",
   "execution_count": 4,
   "id": "1dc5738e",
   "metadata": {},
   "outputs": [
    {
     "name": "stdout",
     "output_type": "stream",
     "text": [
      "Incoming particles with pdgids of [2212, 2212] collide with energy of 13.0 TeV to produce outgoing particles with pdgids of [23, 24]. The outgoing particle with pdgid 24 is marked as signal.\n"
     ]
    }
   ],
   "source": [
    "with EventLoader('events.hdf5', 'wboson') as evts:\n",
    "    # --- metadata available before loading event --- #\n",
    "    num_evts = len(evts)\n",
    "    in_pcls = evts.get_ue_pcls('in_pcls')\n",
    "    out_pcls = evts.get_ue_pcls('out_pcls')\n",
    "    signal_pcl = evts.get_ue_pcls('signal_pcl')\n",
    "    com_energy = evts.get_com()\n",
    "    energy_unit = evts.get_unit()\n",
    "    print(f'Incoming particles with pdgids of {in_pcls} '\n",
    "          + f'collide with energy of {com_energy} {energy_unit} '\n",
    "          + f'to produce outgoing particles with pdgids of {out_pcls}. '\n",
    "          + f'The outgoing particle with pdgid {signal_pcl} is marked as signal.'\n",
    "         )\n",
    "    # --- loading the event and extracting datasets --- #\n",
    "    evt_idx = 0\n",
    "    evts.set_evt(evt_idx)\n",
    "    num_pcls = evts.get_num_pcls()\n",
    "    pmu = evts.get_pmu()\n",
    "    is_signal = evts.get_signal()\n",
    "    pdg = evts.get_pdg()\n",
    "    in_leading = evts.get_custom('in_leading')"
   ]
  },
  {
   "cell_type": "code",
   "execution_count": 5,
   "id": "58ee7432",
   "metadata": {},
   "outputs": [
    {
     "name": "stdout",
     "output_type": "stream",
     "text": [
      "event 0 contains 255 final state particles\n"
     ]
    }
   ],
   "source": [
    "print(f'event {evt_idx} contains {num_pcls} final state particles')"
   ]
  },
  {
   "cell_type": "code",
   "execution_count": 6,
   "id": "df504983",
   "metadata": {
    "scrolled": false
   },
   "outputs": [
    {
     "name": "stdout",
     "output_type": "stream",
     "text": [
      "[[-2.56342e-01  5.58407e-01 -8.28669e-01  1.04101e+00]\n",
      " [-5.90604e-02 -9.99182e-02 -1.15661e+00  1.26291e+00]\n",
      " [ 3.45896e-01 -2.91281e-01 -6.17557e+01  6.17576e+01]\n",
      " ...\n",
      " [ 2.92506e-02  1.19800e-01  2.69329e-01  2.96220e-01]\n",
      " [-1.99885e-02  1.33609e-01  1.97177e-01  2.39018e-01]\n",
      " [ 2.31011e-02  8.24350e-02  4.18310e-03  8.57128e-02]]\n"
     ]
    }
   ],
   "source": [
    "print(pmu)"
   ]
  },
  {
   "cell_type": "code",
   "execution_count": 7,
   "id": "62d1430a",
   "metadata": {},
   "outputs": [
    {
     "name": "stdout",
     "output_type": "stream",
     "text": [
      "[False False False False False False False False False False False False\n",
      " False False False False  True  True  True  True  True  True False False\n",
      " False False False False False False False False False False False False\n",
      " False False False False False False False False False False False False\n",
      " False False False False False False False False False False False False\n",
      " False False False False False  True  True  True  True  True False False\n",
      " False False False False False False False False False False False False\n",
      " False False False False False False False False False False False False\n",
      " False False False False False False False False False False False False\n",
      " False False False False False False  True  True  True  True  True  True\n",
      "  True False False False False False False False False False False False\n",
      " False False False False False False False False False False False False\n",
      " False False False False False False False False False False False False\n",
      " False False False False False False False False False False False False\n",
      " False False False False False False False False  True  True  True  True\n",
      "  True  True False False False False False False False False False False\n",
      " False False False False False False False False False False False False\n",
      " False False False False False False False False False False False False\n",
      " False False False False False False False False False False False False\n",
      "  True  True  True  True False False False False False False False False\n",
      " False False False False False False False False False False False False\n",
      " False False False]\n"
     ]
    }
   ],
   "source": [
    "print(is_signal)"
   ]
  },
  {
   "cell_type": "code",
   "execution_count": 8,
   "id": "62d86783",
   "metadata": {},
   "outputs": [
    {
     "name": "stdout",
     "output_type": "stream",
     "text": [
      "[ -211   321   211   211   211 -2212   211  -321   211   321  -211  -211\n",
      "  -321   321  -211  -211  -211   211   211  -211 -2112  -211  -321   211\n",
      "  -211   321   211  -211  -211  2212   321  -211   321  -321   211  2212\n",
      " -2112  -211  2212 -2212   211  2112 -2112  -211  2212   211  -211   321\n",
      "  -211  -211  -211  2112   211   211  -211  -211   211   211   211   211\n",
      "  -211  -211  -321   211   211   211  -211  -211   211  2112   211  -211\n",
      "   211  -211   211  -211   130  -321   211   211  -211  -211   211  -211\n",
      "  -211   211   211  -211   130   130    22    22   211  -211   211  -211\n",
      "   211  -211    22    22    22    22   211  -211    22    22   211  -211\n",
      "   211  -211   211  -211    22    22    22   211  -211    22    22    22\n",
      "    22    22    22    22    22   211  -211  2212  -211 -2112   211   211\n",
      "  -211    22    22    22    22    22    22    22    22   211  -211   211\n",
      "  -211    22    22 -2212   211  2112    22    22   211  -211    22    22\n",
      "    22    22    22    22    22    22    22    22    22    22   211  -211\n",
      "    22    22    22    22    22    22    22    22    22    22    22    22\n",
      "    22    22    22    22    22    22    22    22    22    22    22    22\n",
      "    22    22    22    22   211  -211   211  -211   211  -211    22    22\n",
      "    22    22    22    22    22    22   211  -211    22    22    22    22\n",
      "    22    22    22    22    22    22    22    22    22    22    22    22\n",
      "    22    22    22    22    22    22    22    22    22    22    22    22\n",
      "    22    22    22    22    22    22    22    22    22    22    22    11\n",
      "   -11    22    22]\n"
     ]
    }
   ],
   "source": [
    "print(pdg)"
   ]
  },
  {
   "cell_type": "code",
   "execution_count": 9,
   "id": "5544108a",
   "metadata": {
    "scrolled": true
   },
   "outputs": [
    {
     "name": "stdout",
     "output_type": "stream",
     "text": [
      "[False False False False False False False False False False False False\n",
      " False False False False  True  True False False  True  True False False\n",
      " False False False False False False False False False False False False\n",
      " False False False False False False False False False False False False\n",
      " False False False False False False False False False False False False\n",
      " False False False False False  True  True False  True  True False False\n",
      " False False False False False False False False False False False False\n",
      " False False False False False False False False False False False False\n",
      " False False False False False False False False False False False False\n",
      " False False False False False False  True  True  True  True  True  True\n",
      "  True False False False False False False False False False False False\n",
      " False False False False False False False False False False False False\n",
      " False False False False False False False False False False False False\n",
      " False False False False False False False False False False False False\n",
      " False False False False False False False False  True  True False False\n",
      "  True  True False False False False False False False False False False\n",
      " False False False False False False False False False False False False\n",
      " False False False False False False False False False False False False\n",
      " False False False False False False False False False False False False\n",
      "  True  True  True  True False  True False False False False False False\n",
      " False False False False False False False False False False False False\n",
      " False False False]\n"
     ]
    }
   ],
   "source": [
    "print(in_leading)"
   ]
  },
  {
   "cell_type": "markdown",
   "id": "3aaed514",
   "metadata": {},
   "source": [
    "### Looping through events of a given process\n",
    "The object returned by `EventLoader` is actually an iterable,\n",
    "so you need not set the event numbers explicitly."
   ]
  },
  {
   "cell_type": "code",
   "execution_count": 10,
   "id": "f6791a7a",
   "metadata": {},
   "outputs": [
    {
     "name": "stdout",
     "output_type": "stream",
     "text": [
      "Event 0 has 255 final state particles\n",
      "Event 1 has 700 final state particles\n",
      "Event 2 has 230 final state particles\n"
     ]
    }
   ],
   "source": [
    "with EventLoader('events.hdf5', 'wboson') as evts:\n",
    "    for evt_idx, evt in enumerate(evts):\n",
    "        print(f'Event {evt_idx} has {evt.get_num_pcls()} final state particles')"
   ]
  }
 ],
 "metadata": {
  "kernelspec": {
   "display_name": "Python 3 (ipykernel)",
   "language": "python",
   "name": "python3"
  },
  "language_info": {
   "codemirror_mode": {
    "name": "ipython",
    "version": 3
   },
   "file_extension": ".py",
   "mimetype": "text/x-python",
   "name": "python",
   "nbconvert_exporter": "python",
   "pygments_lexer": "ipython3",
   "version": "3.8.12"
  }
 },
 "nbformat": 4,
 "nbformat_minor": 5
}
